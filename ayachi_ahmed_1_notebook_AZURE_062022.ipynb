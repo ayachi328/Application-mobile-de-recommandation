{
 "cells": [
  {
   "cell_type": "markdown",
   "metadata": {},
   "source": [
    "<div>\n",
    "<table border=\"1\" style=\"border-collapse: collapse; width: 100%;\">\n",
    "<tbody>\n",
    "<tr>\n",
    "<td style=\"width: 100%; text-align: center;\" colspan=\"4\">\n",
    "<h1><em><span style=\"color: #808080;\"><strong>PROJET 9 - </strong></span></em><em><span style=\"color: #808080;\"><strong>Parcours Ing&eacute;nieur IA</strong></span></em></h1>\n",
    "</td>\n",
    "</tr>\n",
    "<tr style=\"text-align: center;\">\n",
    "<td colspan=\"4\" style=\"width: 100%;\"><img src=\"https://user.oc-static.com/upload/2019/10/24/15719078448088_Capture%20d%E2%80%99e%CC%81cran%202019-10-24%20a%CC%80%2010.50.32.png\" alt=\"Logo My Content\"></td>\n",
    "</tr>\n",
    "<tr>\n",
    "<td style=\"width: 100%; text-align: center;\" colspan=\"4\">\n",
    "<h1><span style=\"color: #808080;\"><strong><em>Réalisez une application de recommandation de contenu</em></strong></span></h1>\n",
    "</td>\n",
    "</tr>\n",
    "<tr>\n",
    "<td style=\"width: 50%; text-align: center;\" colspan=\"2\"><img src=\"https://consent.trustarc.com/get?name=oc_logo.png\" width=\"250px\" /></td>\n",
    "<td style=\"width: 50%; text-align: center;\" colspan=\"2\"><img src=\"Microsoft-Azure-Logo.png\" width=\"250px\" /></td>\n",
    "</tr>\n",
    "</tbody>\n",
    "</table>\n",
    "</div>"
   ]
  },
  {
   "cell_type": "markdown",
   "metadata": {},
   "source": [
    "<hr /><h1 style=\"text-align: center;\"><span style=\"color: #666699;\">📤<em><strong> Modélisation et Upload Azure CosmosDB </strong></em></span></h1><hr />"
   ]
  },
  {
   "cell_type": "code",
   "execution_count": 1,
   "metadata": {},
   "outputs": [],
   "source": [
    "import os\n",
    "import sys\n",
    "\n",
    "# Add source directory to python path\n",
    "sys.path.append(os.path.abspath(\"../\"))\n",
    "\n",
    "from datetime import datetime\n",
    "from pathlib import Path\n",
    "from azure.cosmos import CosmosClient, PartitionKey\n",
    "\n",
    "import pandas as pd\n",
    "import implicit\n",
    "from scipy import sparse\n",
    "from tqdm import tqdm\n",
    "from cfg import AZURE_COSMOSDB_URI, AZURE_COSMOSDB_KEY\n",
    "\n",
    "\n",
    "# Plotly as Pandas plotting backend\n",
    "pd.options.plotting.backend = \"plotly\""
   ]
  },
  {
   "cell_type": "code",
   "execution_count": 2,
   "metadata": {},
   "outputs": [],
   "source": [
    "DATA_PATH = \"../../data/news-portal-user-interactions-by-globocom\""
   ]
  },
  {
   "cell_type": "markdown",
   "metadata": {},
   "source": [
    "<h2 style=\"text-align: left;\"><span style=\"color: #666699;\"><em><strong>Chargement de **Clicks Data**</strong></em></span></h2>"
   ]
  },
  {
   "cell_type": "code",
   "execution_count": 3,
   "metadata": {},
   "outputs": [
    {
     "name": "stdout",
     "output_type": "stream",
     "text": [
      "clicks dataFrame ready...\n",
      "\n",
      "<class 'pandas.core.frame.DataFrame'>\n",
      "RangeIndex: 2988181 entries, 0 to 2988180\n",
      "Data columns (total 12 columns):\n",
      " #   Column               Dtype \n",
      "---  ------               ----- \n",
      " 0   user_id              int64 \n",
      " 1   session_id           int64 \n",
      " 2   session_start        object\n",
      " 3   session_size         int64 \n",
      " 4   click_article_id     int64 \n",
      " 5   click_timestamp      object\n",
      " 6   click_environment    object\n",
      " 7   click_deviceGroup    object\n",
      " 8   click_os             object\n",
      " 9   click_country        int64 \n",
      " 10  click_region         int64 \n",
      " 11  click_referrer_type  int64 \n",
      "dtypes: int64(7), object(5)\n",
      "memory usage: 273.6+ MB\n"
     ]
    }
   ],
   "source": [
    "if 'clicks.csv' in os.listdir(os.getcwd()):\n",
    "    clicks = pd.read_csv('clicks.csv')\n",
    "    print('clicks dataFrame ready...\\n')\n",
    "    clicks.info()\n",
    "\n",
    "else :\n",
    "    clicks = pd.concat(\n",
    "        [\n",
    "            pd.read_csv(\n",
    "                click_file_path,\n",
    "                parse_dates=[\"session_start\", \"click_timestamp\"],\n",
    "                date_parser=lambda x: datetime.fromtimestamp(int(int(x) / 1000)),\n",
    "                dtype={\n",
    "                    \"user_id\": \"category\",\n",
    "                    \"session_id\": \"category\",\n",
    "                    \"session_size\": \"int\",\n",
    "                    \"click_article_id\": \"category\",\n",
    "                    \"click_environment\": \"category\",\n",
    "                    \"click_deviceGroup\": \"category\",\n",
    "                    \"click_os\": \"category\",\n",
    "                    \"click_country\": \"category\",\n",
    "                    \"click_region\": \"category\",\n",
    "                    \"click_referrer_type\": \"category\",\n",
    "                },\n",
    "            ).replace(\n",
    "                {\n",
    "                    \"click_environment\": {\n",
    "                        \"1\": \"1 - Facebook Instant Article\",\n",
    "                        \"2\": \"2 - Mobile App\",\n",
    "                        \"3\": \"3 - AMP (Accelerated Mobile Pages)\",\n",
    "                        \"4\": \"4 - Web\",\n",
    "                    },\n",
    "                    \"click_deviceGroup\": {\n",
    "                        \"1\": \"1 - Tablet\",\n",
    "                        \"2\": \"2 - TV\",\n",
    "                        \"3\": \"3 - Empty\",\n",
    "                        \"4\": \"4 - Mobile\",\n",
    "                        \"5\": \"5 - Desktop\",\n",
    "                    },\n",
    "                    \"click_os\": {\n",
    "                        \"1\": \"1 - Other\",\n",
    "                        \"2\": \"2 - iOS\",\n",
    "                        \"3\": \"3 - Android\",\n",
    "                        \"4\": \"4 - Windows Phone\",\n",
    "                        \"5\": \"5 - Windows Mobile\",\n",
    "                        \"6\": \"6 - Windows\",\n",
    "                        \"7\": \"7 - Mac OS X\",\n",
    "                        \"8\": \"8 - Mac OS\",\n",
    "                        \"9\": \"9 - Samsung\",\n",
    "                        \"10\": \"10 - FireHbbTV\",\n",
    "                        \"11\": \"11 - ATV OS X\",\n",
    "                        \"12\": \"12 - tvOS\",\n",
    "                        \"13\": \"13 - Chrome OS\",\n",
    "                        \"14\": \"14 - Debian\",\n",
    "                        \"15\": \"15 - Symbian OS\",\n",
    "                        \"16\": \"16 - BlackBerry OS\",\n",
    "                        \"17\": \"17 - Firefox OS\",\n",
    "                        \"18\": \"18 - Android\",\n",
    "                        \"19\": \"19 - Brew MP\",\n",
    "                        \"20\": \"20 - Chromecast\",\n",
    "                        \"21\": \"21 - webOS\",\n",
    "                        \"22\": \"22 - Gentoo\",\n",
    "                        \"23\": \"23 - Solaris\",\n",
    "                    },\n",
    "                }\n",
    "            )\n",
    "            for click_file_path in tqdm(\n",
    "                sorted(Path(DATA_PATH, \"clicks\").glob(\"clicks_hour_*.csv\"))\n",
    "            )\n",
    "        ],\n",
    "        sort=False,\n",
    "        ignore_index=True,\n",
    "        verify_integrity=True,\n",
    "    )\n",
    "\n",
    "clicks.to_csv('clicks.csv', index=False)"
   ]
  },
  {
   "cell_type": "code",
   "execution_count": 4,
   "metadata": {},
   "outputs": [],
   "source": [
    "clicks = clicks.astype(\n",
    "        {\"session_start\": \"datetime64[ns]\", \"click_timestamp\": \"datetime64[ns]\"}\n",
    "    )"
   ]
  },
  {
   "cell_type": "markdown",
   "metadata": {},
   "source": [
    "<h2 style=\"text-align: left;\"><span style=\"color: #666699;\"><em><strong>Création **Implicit Ratings**</strong></em></span></h2>"
   ]
  },
  {
   "cell_type": "code",
   "execution_count": 5,
   "metadata": {},
   "outputs": [
    {
     "data": {
      "text/html": [
       "<div>\n",
       "<style scoped>\n",
       "    .dataframe tbody tr th:only-of-type {\n",
       "        vertical-align: middle;\n",
       "    }\n",
       "\n",
       "    .dataframe tbody tr th {\n",
       "        vertical-align: top;\n",
       "    }\n",
       "\n",
       "    .dataframe thead th {\n",
       "        text-align: right;\n",
       "    }\n",
       "</style>\n",
       "<table border=\"1\" class=\"dataframe\">\n",
       "  <thead>\n",
       "    <tr style=\"text-align: right;\">\n",
       "      <th></th>\n",
       "      <th>user_id</th>\n",
       "      <th>click_article_id</th>\n",
       "      <th>rating</th>\n",
       "    </tr>\n",
       "  </thead>\n",
       "  <tbody>\n",
       "    <tr>\n",
       "      <th>0</th>\n",
       "      <td>0</td>\n",
       "      <td>68866</td>\n",
       "      <td>1</td>\n",
       "    </tr>\n",
       "  </tbody>\n",
       "</table>\n",
       "</div>"
      ],
      "text/plain": [
       "   user_id  click_article_id  rating\n",
       "0        0             68866       1"
      ]
     },
     "execution_count": 5,
     "metadata": {},
     "output_type": "execute_result"
    }
   ],
   "source": [
    "ratings = (\n",
    "    clicks.reset_index()\n",
    "    .groupby([\"user_id\", \"click_article_id\"])\n",
    "    .agg(\n",
    "        rating=(\"index\", \"count\"),\n",
    "    )\n",
    "    .reset_index()\n",
    ")\n",
    "ratings.head(1)"
   ]
  },
  {
   "cell_type": "markdown",
   "metadata": {},
   "source": [
    "<h2 style=\"text-align: left;\"><span style=\"color: #666699;\"><em><strong>Création **Implicit Ratings CSR Matrix**</strong></em></span></h2>"
   ]
  },
  {
   "cell_type": "code",
   "execution_count": 6,
   "metadata": {},
   "outputs": [
    {
     "data": {
      "text/plain": [
       "(322897, 364047)"
      ]
     },
     "execution_count": 6,
     "metadata": {},
     "output_type": "execute_result"
    }
   ],
   "source": [
    "ratings_sparse = sparse.csr_matrix(\n",
    "    (\n",
    "        ratings[\"rating\"],\n",
    "        (ratings[\"user_id\"].astype(\"int\"), ratings[\"click_article_id\"].astype(\"int\")),\n",
    "    ),\n",
    ")\n",
    "ratings_sparse.shape"
   ]
  },
  {
   "cell_type": "markdown",
   "metadata": {},
   "source": [
    "<h2 style=\"text-align: center;\"><span style=\"color: #666699;\"><em><strong>Entrainement sur GPU du meilleur modèle **ALS**</strong></em></span></h2>"
   ]
  },
  {
   "cell_type": "code",
   "execution_count": 16,
   "metadata": {},
   "outputs": [
    {
     "data": {
      "application/vnd.jupyter.widget-view+json": {
       "model_id": "1523987a3a4d40929b00c5a9b6aaf170",
       "version_major": 2,
       "version_minor": 0
      },
      "text/plain": [
       "  0%|          | 0/15 [00:00<?, ?it/s]"
      ]
     },
     "metadata": {},
     "output_type": "display_data"
    }
   ],
   "source": [
    "model = implicit.gpu.als.AlternatingLeastSquares()\n",
    "model.fit(ratings_sparse)"
   ]
  },
  {
   "cell_type": "markdown",
   "metadata": {},
   "source": [
    "<h2 style=\"text-align: center;\"><span style=\"color: #666699;\"><em><strong>Creation CosmosDB client et database</strong></em></span></h2>"
   ]
  },
  {
   "cell_type": "code",
   "execution_count": 17,
   "metadata": {},
   "outputs": [],
   "source": [
    "client = CosmosClient(AZURE_COSMOSDB_URI, AZURE_COSMOSDB_KEY)\n",
    "database = client.create_database_if_not_exists(id=\"Recommendation\")\n",
    "container = database.create_container_if_not_exists(\n",
    "    id=\"UserArticles\",\n",
    "    partition_key=PartitionKey(path=\"/id\"),\n",
    ")"
   ]
  },
  {
   "cell_type": "markdown",
   "metadata": {},
   "source": [
    "<h2 style=\"text-align: center;\"><span style=\"color: #666699;\"><em><strong>Upload des recommendations vers CosmosDB</strong></em></span></h2>"
   ]
  },
  {
   "cell_type": "code",
   "execution_count": 18,
   "metadata": {},
   "outputs": [
    {
     "name": "stderr",
     "output_type": "stream",
     "text": [
      "100it [00:17,  5.83it/s]\n"
     ]
    }
   ],
   "source": [
    "## Insert recommendations of the only first 100 users into CosmosDB\n",
    "\n",
    "user_ids = ratings[\"user_id\"].unique().astype(\"int\")\n",
    "user_ids = user_ids[:100]\n",
    "\n",
    "recos, _ = model.recommend(user_ids, ratings_sparse[user_ids], N=5)\n",
    "\n",
    "for i, user_id in tqdm(enumerate(user_ids)):\n",
    "    container.upsert_item(\n",
    "        {\n",
    "            \"id\": str(user_id),\n",
    "            \"articles\": [str(article_id) for article_id in recos[i]],\n",
    "        }\n",
    "    )"
   ]
  },
  {
   "cell_type": "markdown",
   "metadata": {},
   "source": [
    "<h2 style=\"text-align: center;\"><span style=\"color: #666699;\"><em><strong>Verification CosmosDB</strong></em></span></h2>"
   ]
  },
  {
   "cell_type": "code",
   "execution_count": 19,
   "metadata": {},
   "outputs": [
    {
     "name": "stdout",
     "output_type": "stream",
     "text": [
      "\n",
      "1.3 - Reading all items in a container\n",
      "\n",
      "Found 100 items\n"
     ]
    }
   ],
   "source": [
    "def read_items(container):\n",
    "    print('\\n1.3 - Reading all items in a container\\n')\n",
    "\n",
    "    # NOTE: Use MaxItemCount on Options to control how many items come back per trip to the server\n",
    "    #       Important to handle throttles whenever you are doing operations such as this that might\n",
    "    #       result in a 429 (throttled request)\n",
    "    item_list = list(container.read_all_items(max_item_count=10))\n",
    "\n",
    "    print('Found {0} items'.format(item_list.__len__()))\n",
    "\n",
    "read_items(container)"
   ]
  },
  {
   "cell_type": "code",
   "execution_count": null,
   "metadata": {},
   "outputs": [],
   "source": []
  }
 ],
 "metadata": {
  "kernelspec": {
   "display_name": "Python 3",
   "language": "python",
   "name": "python3"
  },
  "language_info": {
   "codemirror_mode": {
    "name": "ipython",
    "version": 3
   },
   "file_extension": ".py",
   "mimetype": "text/x-python",
   "name": "python",
   "nbconvert_exporter": "python",
   "pygments_lexer": "ipython3",
   "version": "3.8.10"
  }
 },
 "nbformat": 4,
 "nbformat_minor": 2
}

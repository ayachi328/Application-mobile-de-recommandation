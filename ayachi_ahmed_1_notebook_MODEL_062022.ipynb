{
 "cells": [
  {
   "cell_type": "markdown",
   "metadata": {},
   "source": [
    "<div>\n",
    "<table border=\"1\" style=\"border-collapse: collapse; width: 100%;\">\n",
    "<tbody>\n",
    "<tr>\n",
    "<td style=\"width: 100%; text-align: center;\" colspan=\"4\">\n",
    "<h1><em><span style=\"color: #808080;\"><strong>PROJET 9 - </strong></span></em><em><span style=\"color: #808080;\"><strong>Parcours Ing&eacute;nieur IA</strong></span></em></h1>\n",
    "</td>\n",
    "</tr>\n",
    "<tr style=\"text-align: center;\">\n",
    "<td colspan=\"4\" style=\"width: 100%;\"><img src=\"https://user.oc-static.com/upload/2019/10/24/15719078448088_Capture%20d%E2%80%99e%CC%81cran%202019-10-24%20a%CC%80%2010.50.32.png\" alt=\"Logo My Content\"></td>\n",
    "</tr>\n",
    "<tr>\n",
    "<td style=\"width: 100%; text-align: center;\" colspan=\"4\">\n",
    "<h1><span style=\"color: #808080;\"><strong><em>Réalisez une application de recommandation de contenu</em></strong></span></h1>\n",
    "</td>\n",
    "</tr>\n",
    "<tr>\n",
    "<td style=\"width: 50%; text-align: center;\" colspan=\"2\"><img src=\"https://consent.trustarc.com/get?name=oc_logo.png\" width=\"250px\" /></td>\n",
    "<td style=\"width: 50%; text-align: center;\" colspan=\"2\"><img src=\"Microsoft-Azure-Logo.png\" width=\"250px\" /></td>\n",
    "</tr>\n",
    "</tbody>\n",
    "</table>\n",
    "</div>"
   ]
  },
  {
   "cell_type": "markdown",
   "metadata": {},
   "source": [
    "<hr /><h1 style=\"text-align: center;\"><span style=\"color: #666699;\"> <em><strong>Modélisation des système de recommandation</strong></em></span></h1><hr />"
   ]
  },
  {
   "cell_type": "code",
   "execution_count": 135,
   "metadata": {},
   "outputs": [],
   "source": [
    "import logging\n",
    "import random\n",
    "from datetime import datetime\n",
    "from pathlib import Path\n",
    "\n",
    "import numpy as np\n",
    "import pandas as pd\n",
    "import plotly.express as px\n",
    "from pandas.api.types import is_numeric_dtype\n",
    "from sklearn.decomposition import PCA\n",
    "from sklearn.manifold import TSNE\n",
    "from sklearn.metrics.pairwise import cosine_similarity, linear_kernel\n",
    "from sklearn.preprocessing import StandardScaler\n",
    "from tqdm import tqdm\n",
    "import implicit\n",
    "from implicit import evaluation\n",
    "\n",
    "from scipy import sparse\n",
    "pd.options.plotting.backend = \"plotly\""
   ]
  },
  {
   "cell_type": "code",
   "execution_count": 3,
   "metadata": {},
   "outputs": [],
   "source": [
    "DATA_PATH = \"../../data/news-portal-user-interactions-by-globocom\""
   ]
  },
  {
   "cell_type": "markdown",
   "metadata": {},
   "source": [
    "<h2 style=\"text-align: left;\"><span style=\"color: #666699;\"> <em><strong>Chargement des articles</strong></em></span></h2>"
   ]
  },
  {
   "cell_type": "code",
   "execution_count": 8,
   "metadata": {},
   "outputs": [],
   "source": [
    "articles = pd.concat(\n",
    "    [\n",
    "        pd.read_csv(\n",
    "            Path(DATA_PATH, \"articles_metadata.csv\"),\n",
    "            parse_dates=[\"created_at_ts\"],\n",
    "            date_parser=lambda x: datetime.fromtimestamp(int(x) / 1000),\n",
    "            dtype={\n",
    "                \"article_id\": \"category\",\n",
    "                \"category_id\": \"category\",\n",
    "                \"publisher_id\": \"category\",\n",
    "                \"words_count\": \"int\",\n",
    "            },\n",
    "        ),\n",
    "        pd.DataFrame(\n",
    "            pd.read_pickle(Path(DATA_PATH, \"articles_embeddings.pickle\")),\n",
    "            columns=[\"embedding_\" + str(i) for i in range(250)],\n",
    "        ),\n",
    "    ],\n",
    "    axis=1,\n",
    ")\n",
    "\n",
    "articles = articles.astype({\"created_at_ts\": \"datetime64[ns]\"})\n",
    "\n",
    "articles_sample = articles.sample(frac=0.01, random_state=1)"
   ]
  },
  {
   "cell_type": "markdown",
   "metadata": {},
   "source": [
    "<h2 style=\"text-align: left;\"><span style=\"color: #666699;\"> <em><strong>Chargement des metadonnées articles</strong></em></span></h2>"
   ]
  },
  {
   "cell_type": "code",
   "execution_count": 7,
   "metadata": {},
   "outputs": [],
   "source": [
    "articles_metadata = pd.read_csv(\n",
    "    Path(DATA_PATH, \"articles_metadata.csv\"),\n",
    "    parse_dates=[\"created_at_ts\"],\n",
    "    date_parser=lambda x: datetime.fromtimestamp(int(x) / 1000),\n",
    "    dtype={\n",
    "        \"article_id\": \"category\",\n",
    "        \"category_id\": \"category\",\n",
    "        \"publisher_id\": \"category\",\n",
    "        \"words_count\": \"int\",\n",
    "    },\n",
    ")\n",
    "\n",
    "articles_metadata = articles_metadata.astype({\"created_at_ts\": \"datetime64[ns]\"})"
   ]
  },
  {
   "cell_type": "markdown",
   "metadata": {},
   "source": [
    "<h2 style=\"text-align: left;\"><span style=\"color: #666699;\"> <em><strong>Chargement des interactions Clicks</strong></em></span></h2>"
   ]
  },
  {
   "cell_type": "code",
   "execution_count": 10,
   "metadata": {
    "scrolled": true
   },
   "outputs": [
    {
     "name": "stderr",
     "output_type": "stream",
     "text": [
      "100%|██████████| 385/385 [01:19<00:00,  4.85it/s]\n"
     ]
    }
   ],
   "source": [
    "clicks = pd.concat(\n",
    "    [\n",
    "        pd.read_csv(\n",
    "            click_file_path,\n",
    "            parse_dates=[\"session_start\", \"click_timestamp\"],\n",
    "            date_parser=lambda x: datetime.fromtimestamp(int(int(x) / 1000)),\n",
    "            dtype={\n",
    "                \"user_id\": \"category\",\n",
    "                \"session_id\": \"category\",\n",
    "                \"session_size\": \"int\",\n",
    "                \"click_article_id\": \"category\",\n",
    "                \"click_environment\": \"category\",\n",
    "                \"click_deviceGroup\": \"category\",\n",
    "                \"click_os\": \"category\",\n",
    "                \"click_country\": \"category\",\n",
    "                \"click_region\": \"category\",\n",
    "                \"click_referrer_type\": \"category\",\n",
    "            },\n",
    "        ).replace(\n",
    "            {\n",
    "                \"click_environment\": {\n",
    "                    \"1\": \"1 - Facebook Instant Article\",\n",
    "                    \"2\": \"2 - Mobile App\",\n",
    "                    \"3\": \"3 - AMP (Accelerated Mobile Pages)\",\n",
    "                    \"4\": \"4 - Web\",\n",
    "                },\n",
    "                \"click_deviceGroup\": {\n",
    "                    \"1\": \"1 - Tablet\",\n",
    "                    \"2\": \"2 - TV\",\n",
    "                    \"3\": \"3 - Empty\",\n",
    "                    \"4\": \"4 - Mobile\",\n",
    "                    \"5\": \"5 - Desktop\",\n",
    "                },\n",
    "                \"click_os\": {\n",
    "                    \"1\": \"1 - Other\",\n",
    "                    \"2\": \"2 - iOS\",\n",
    "                    \"3\": \"3 - Android\",\n",
    "                    \"4\": \"4 - Windows Phone\",\n",
    "                    \"5\": \"5 - Windows Mobile\",\n",
    "                    \"6\": \"6 - Windows\",\n",
    "                    \"7\": \"7 - Mac OS X\",\n",
    "                    \"8\": \"8 - Mac OS\",\n",
    "                    \"9\": \"9 - Samsung\",\n",
    "                    \"10\": \"10 - FireHbbTV\",\n",
    "                    \"11\": \"11 - ATV OS X\",\n",
    "                    \"12\": \"12 - tvOS\",\n",
    "                    \"13\": \"13 - Chrome OS\",\n",
    "                    \"14\": \"14 - Debian\",\n",
    "                    \"15\": \"15 - Symbian OS\",\n",
    "                    \"16\": \"16 - BlackBerry OS\",\n",
    "                    \"17\": \"17 - Firefox OS\",\n",
    "                    \"18\": \"18 - Android\",\n",
    "                    \"19\": \"19 - Brew MP\",\n",
    "                    \"20\": \"20 - Chromecast\",\n",
    "                    \"21\": \"21 - webOS\",\n",
    "                    \"22\": \"22 - Gentoo\",\n",
    "                    \"23\": \"23 - Solaris\",\n",
    "                },\n",
    "            }\n",
    "        )\n",
    "        for click_file_path in tqdm(\n",
    "            sorted(Path(DATA_PATH, \"clicks\").glob(\"clicks_hour_*.csv\"))\n",
    "        )\n",
    "    ],\n",
    "    sort=False,\n",
    "    ignore_index=True,\n",
    "    verify_integrity=True,\n",
    ")\n",
    "\n",
    "clicks = clicks.astype(\n",
    "    {\"session_start\": \"datetime64[ns]\", \"click_timestamp\": \"datetime64[ns]\"}\n",
    ")"
   ]
  },
  {
   "cell_type": "markdown",
   "metadata": {},
   "source": [
    "<h2 style=\"text-align: left;\"><span style=\"color: #666699;\"> <em><strong>Fusion des DataFrames Clicks et Articles Metadata</strong></em></span></h2>"
   ]
  },
  {
   "cell_type": "code",
   "execution_count": 21,
   "metadata": {},
   "outputs": [],
   "source": [
    "df_merged = clicks.merge(articles_metadata, left_on='click_article_id', right_on='article_id')#, how='right')"
   ]
  },
  {
   "cell_type": "code",
   "execution_count": 22,
   "metadata": {},
   "outputs": [],
   "source": [
    "columns_to_drop = ['click_environment', 'click_deviceGroup', 'click_os', 'click_referrer_type', 'publisher_id', 'click_article_id', 'created_at_ts', 'session_id', 'session_start', 'session_size'] "
   ]
  },
  {
   "cell_type": "code",
   "execution_count": 23,
   "metadata": {},
   "outputs": [],
   "source": [
    "df_merged = df_merged.drop(columns=columns_to_drop)"
   ]
  },
  {
   "cell_type": "markdown",
   "metadata": {},
   "source": [
    "<hr /><h1 style=\"text-align: center;\"><span style=\"color: #666699;\"> <em><strong>Content-based Filtering</strong></em></span></h1>"
   ]
  },
  {
   "cell_type": "markdown",
   "metadata": {},
   "source": [
    "<h2 style=\"text-align: left;\"><span style=\"color: #666699;\"> <em><strong>Modèle basé sur la popularité des articles</strong></em></span></h2>"
   ]
  },
  {
   "cell_type": "code",
   "execution_count": 42,
   "metadata": {},
   "outputs": [],
   "source": [
    "#most popular articles\n",
    "def most_popular_article():\n",
    "    most_popular_articles = df_merged['article_id'].value_counts().index.to_list()\n",
    "    return most_popular_articles"
   ]
  },
  {
   "cell_type": "code",
   "execution_count": 49,
   "metadata": {},
   "outputs": [],
   "source": [
    "#articles already read for a user\n",
    "def article_readed(user_id):\n",
    "    articles_readed = df_merged[df_merged['user_id']==user_id]['article_id'].unique().tolist()\n",
    "    return articles_readed"
   ]
  },
  {
   "cell_type": "code",
   "execution_count": 50,
   "metadata": {},
   "outputs": [],
   "source": [
    "# Top-n recommandations based on articles popularity\n",
    "def recommandation_popular(user_id, top_n):\n",
    "    most_popular_articles = most_popular_article()\n",
    "    articles_readed = article_readed(user_id)\n",
    "    recommandation_popular = [i for i in most_popular_articles if i not in set(articles_readed)]\n",
    "    top_n = recommandation_popular[:top_n]\n",
    "    \n",
    "    return top_n"
   ]
  },
  {
   "cell_type": "code",
   "execution_count": 76,
   "metadata": {},
   "outputs": [
    {
     "name": "stdout",
     "output_type": "stream",
     "text": [
      "CPU times: user 532 ms, sys: 0 ns, total: 532 ms\n",
      "Wall time: 529 ms\n"
     ]
    },
    {
     "data": {
      "text/plain": [
       "['160974', '272143', '336221', '234698', '123909']"
      ]
     },
     "execution_count": 76,
     "metadata": {},
     "output_type": "execute_result"
    }
   ],
   "source": [
    "%%time\n",
    "recommandation_popular(1, 5)"
   ]
  },
  {
   "cell_type": "markdown",
   "metadata": {},
   "source": [
    "<h2 style=\"text-align: left;\"><span style=\"color: #666699;\"> <em><strong>Modèle basé sur la catégorie des articles </strong></em></span></h2>"
   ]
  },
  {
   "cell_type": "code",
   "execution_count": 56,
   "metadata": {},
   "outputs": [],
   "source": [
    "def popular_category(user_id):\n",
    "    populars_category = df_merged[df_merged['user_id']==user_id].groupby(['category_id']).size().sort_values(ascending=False).index[0]\n",
    "    return populars_category"
   ]
  },
  {
   "cell_type": "code",
   "execution_count": 61,
   "metadata": {},
   "outputs": [],
   "source": [
    "def popular_articles(category_id):\n",
    "    populars_articles = df_merged[df_merged['category_id']==category_id].groupby(['article_id']).size().sort_values(ascending=False).index.to_list()\n",
    "    return populars_articles"
   ]
  },
  {
   "cell_type": "code",
   "execution_count": 100,
   "metadata": {},
   "outputs": [],
   "source": [
    "def recommendations_category(user_id, top_n):\n",
    "    if user_id in df_merged['user_id'].values:\n",
    "        populars_category = popular_category(user_id)\n",
    "        populars_articles = popular_articles(populars_category)\n",
    "        articles_readed = article_readed(user_id)    \n",
    "        popular_articles_for_category = [i for i in populars_articles if i not in set(articles_readed)]\n",
    "        top_n = popular_articles_for_category[:top_n]\n",
    "        return top_n"
   ]
  },
  {
   "cell_type": "code",
   "execution_count": 96,
   "metadata": {},
   "outputs": [
    {
     "name": "stdout",
     "output_type": "stream",
     "text": [
      "CPU times: user 1.08 s, sys: 3.7 ms, total: 1.08 s\n",
      "Wall time: 1.08 s\n"
     ]
    },
    {
     "data": {
      "text/plain": [
       "['160974', '162655', '158536', '156560', '160417']"
      ]
     },
     "execution_count": 96,
     "metadata": {},
     "output_type": "execute_result"
    }
   ],
   "source": [
    "%%time\n",
    "recommendations_category('1', 5)"
   ]
  },
  {
   "cell_type": "markdown",
   "metadata": {},
   "source": [
    "<h2 style=\"text-align: left;\"><span style=\"color: #666699;\"> <em><strong>Modèle basé sur la similarité entre les articles </strong></em></span></h2>"
   ]
  },
  {
   "cell_type": "code",
   "execution_count": 111,
   "metadata": {},
   "outputs": [],
   "source": [
    "def agg(articles):\n",
    "    return articles.groupby(lambda x: True).agg(\n",
    "        {\n",
    "            col: \"mean\"\n",
    "            if is_numeric_dtype(articles.dtypes[col])\n",
    "            else lambda x: x.mode()[0]\n",
    "            for col in articles.columns\n",
    "        }\n",
    "    )\n",
    "\n",
    "\n",
    "def interest(user_id, clicks, articles):\n",
    "    user_id = str(user_id)\n",
    "\n",
    "    all_article_ids = clicks.query(\"user_id == @user_id\")[\"click_article_id\"]\n",
    "    interest = agg(\n",
    "        articles.query(\"article_id in @all_article_ids\")\n",
    "    ).drop([\"article_id\"], axis=1)\n",
    "\n",
    "    return interest\n",
    "\n",
    "\n",
    "def prepare(articles, category_id):\n",
    "    articles_copy = articles.drop([\"article_id\", \"similarity\"], axis=1, errors=\"ignore\")\n",
    "    articles_copy[\"category_id\"] = articles_copy[\"category_id\"].apply(\n",
    "        lambda x: category_id if int(x) == category_id else 0\n",
    "    )\n",
    "    articles_copy[\"created_at_ts\"] = articles_copy[\"created_at_ts\"].apply(\n",
    "        lambda x: x.value\n",
    "    )\n",
    "\n",
    "    return articles_copy\n",
    "\n",
    "\n",
    "def similar_articles(interest, articles, n=10):\n",
    "    category_id = interest[\"category_id\"].iloc[0]\n",
    "\n",
    "    scaler = StandardScaler()\n",
    "    articles_std = scaler.fit_transform(prepare_for_scale(articles, category_id))\n",
    "    interest_std = scaler.transform(prepare_for_scale(interest, category_id))\n",
    "\n",
    "    articles = articles.copy()\n",
    "    articles[\"similarity\"] = cosine_similarity(interest_std, articles_std)[0]\n",
    "\n",
    "    return (\n",
    "        articles.sort_values(\"similarity\", ascending=False).iloc[:n],\n",
    "        scaler,\n",
    "        articles_std,\n",
    "        interest_std,\n",
    "    )"
   ]
  },
  {
   "cell_type": "code",
   "execution_count": 121,
   "metadata": {},
   "outputs": [],
   "source": [
    "def recommendations_similar(user_id, top_n):\n",
    "\n",
    "    interests = interest(user_id, clicks, articles)\n",
    "    category_id = interests[\"category_id\"].iloc[0]\n",
    "\n",
    "    similar, scaler, articles_std, interest_std = similar_articles(\n",
    "        interests, articles, n=5\n",
    "    )\n",
    "\n",
    "    articles_sample_std = scaler.transform(prepare(articles_sample, category_id))\n",
    "    similar_std = scaler.transform(\n",
    "        prepare(similar, category_id)\n",
    "    )\n",
    "\n",
    "    return similar.article_id.values.tolist()"
   ]
  },
  {
   "cell_type": "code",
   "execution_count": 123,
   "metadata": {},
   "outputs": [
    {
     "name": "stdout",
     "output_type": "stream",
     "text": [
      "CPU times: user 11 s, sys: 4.49 s, total: 15.5 s\n",
      "Wall time: 13.9 s\n"
     ]
    },
    {
     "data": {
      "text/plain": [
       "['284844', '346278', '345484', '238038', '285228']"
      ]
     },
     "execution_count": 123,
     "metadata": {},
     "output_type": "execute_result"
    }
   ],
   "source": [
    "%%time\n",
    "recommendations_similar(1, 5)"
   ]
  },
  {
   "cell_type": "markdown",
   "metadata": {},
   "source": [
    "<hr /><h1 style=\"text-align: center;\"><span style=\"color: #666699;\"> <em><strong>Collaborative-based Filtering</strong></em></span></h1>"
   ]
  },
  {
   "cell_type": "markdown",
   "metadata": {},
   "source": [
    "<h2 style=\"text-align: left;\"><span style=\"color: #666699;\"><em><strong>Création **Implicit Ratings**</strong></em></span></h2>"
   ]
  },
  {
   "cell_type": "code",
   "execution_count": 129,
   "metadata": {},
   "outputs": [
    {
     "data": {
      "text/plain": [
       "(2950710, 3)"
      ]
     },
     "execution_count": 129,
     "metadata": {},
     "output_type": "execute_result"
    }
   ],
   "source": [
    "ratings = (\n",
    "    clicks.reset_index()\n",
    "    .groupby([\"user_id\", \"click_article_id\"])\n",
    "    .agg(\n",
    "        rating=(\"index\", \"count\"),\n",
    "    )\n",
    "    .reset_index()\n",
    ")\n",
    "ratings.shape"
   ]
  },
  {
   "cell_type": "markdown",
   "metadata": {},
   "source": [
    "<h2 style=\"text-align: left;\"><span style=\"color: #666699;\"><em><strong>Création **Implicit Ratings CSR Matrix**</strong></em></span></h2>"
   ]
  },
  {
   "cell_type": "code",
   "execution_count": 128,
   "metadata": {},
   "outputs": [
    {
     "data": {
      "text/plain": [
       "(322897, 364047)"
      ]
     },
     "execution_count": 128,
     "metadata": {},
     "output_type": "execute_result"
    }
   ],
   "source": [
    "ratings_sparse = sparse.csr_matrix(\n",
    "    (\n",
    "        ratings[\"rating\"],\n",
    "        (ratings[\"user_id\"].astype(\"int\"), ratings[\"click_article_id\"].astype(\"int\")),\n",
    "    ),\n",
    ")\n",
    "ratings_sparse.shape"
   ]
  },
  {
   "cell_type": "markdown",
   "metadata": {},
   "source": [
    "<h2 style=\"text-align: left;\"><span style=\"color: #666699;\"><em><strong>Création Train Set & Test Set</strong></em></span></h2>"
   ]
  },
  {
   "cell_type": "code",
   "execution_count": 137,
   "metadata": {},
   "outputs": [],
   "source": [
    "train_set, test_set = evaluation.train_test_split(ratings_sparse, train_percentage=0.8, random_state=None)"
   ]
  },
  {
   "cell_type": "markdown",
   "metadata": {},
   "source": [
    "<hr /><h1 style=\"text-align: center;\"><span style=\"color: #666699;\"> <em><strong>Model based</strong></em></span></h1>"
   ]
  },
  {
   "cell_type": "markdown",
   "metadata": {},
   "source": [
    "<h2 style=\"text-align: center;\"><span style=\"color: #666699;\"><em><strong>Alternating Least Squares Model (GPU)</strong></em></span></h2>\n"
   ]
  },
  {
   "cell_type": "code",
   "execution_count": 139,
   "metadata": {},
   "outputs": [
    {
     "data": {
      "application/vnd.jupyter.widget-view+json": {
       "model_id": "9a6691efc6e74788a6bb52295d1145f8",
       "version_major": 2,
       "version_minor": 0
      },
      "text/plain": [
       "  0%|          | 0/15 [00:00<?, ?it/s]"
      ]
     },
     "metadata": {},
     "output_type": "display_data"
    }
   ],
   "source": [
    "model = implicit.gpu.als.AlternatingLeastSquares()\n",
    "model.fit(train_set, show_progress = True)"
   ]
  },
  {
   "cell_type": "code",
   "execution_count": 140,
   "metadata": {},
   "outputs": [
    {
     "data": {
      "application/vnd.jupyter.widget-view+json": {
       "model_id": "a7459599c1c047c3be7082c2f09a007b",
       "version_major": 2,
       "version_minor": 0
      },
      "text/plain": [
       "  0%|          | 0/210272 [00:00<?, ?it/s]"
      ]
     },
     "metadata": {},
     "output_type": "display_data"
    }
   ],
   "source": [
    "result = evaluation.ranking_metrics_at_k(model, train_set, test_set, K=10,\n",
    "                         show_progress=True, num_threads=1)"
   ]
  },
  {
   "cell_type": "code",
   "execution_count": 206,
   "metadata": {},
   "outputs": [
    {
     "data": {
      "text/plain": [
       "[237524, 156355, 58580, 284547, 123757]"
      ]
     },
     "execution_count": 206,
     "metadata": {},
     "output_type": "execute_result"
    }
   ],
   "source": [
    "model.recommend(16280, ratings_sparse[16280], N=5)[0].tolist()"
   ]
  },
  {
   "cell_type": "code",
   "execution_count": 207,
   "metadata": {
    "scrolled": true
   },
   "outputs": [],
   "source": [
    "bench = pd.DataFrame(columns=pd.DataFrame(result.items())[0])\n",
    "bench.index.name = 'Modèle'"
   ]
  },
  {
   "cell_type": "code",
   "execution_count": 208,
   "metadata": {},
   "outputs": [],
   "source": [
    "def append_result():\n",
    "    name = str(model).split(\" \")[0].split(\".\")[-1:][0]\n",
    "    bench.loc[name]= result.values()"
   ]
  },
  {
   "cell_type": "code",
   "execution_count": 209,
   "metadata": {},
   "outputs": [
    {
     "data": {
      "text/html": [
       "<div>\n",
       "<style scoped>\n",
       "    .dataframe tbody tr th:only-of-type {\n",
       "        vertical-align: middle;\n",
       "    }\n",
       "\n",
       "    .dataframe tbody tr th {\n",
       "        vertical-align: top;\n",
       "    }\n",
       "\n",
       "    .dataframe thead th {\n",
       "        text-align: right;\n",
       "    }\n",
       "</style>\n",
       "<table border=\"1\" class=\"dataframe\">\n",
       "  <thead>\n",
       "    <tr style=\"text-align: right;\">\n",
       "      <th></th>\n",
       "      <th>precision</th>\n",
       "      <th>map</th>\n",
       "      <th>ndcg</th>\n",
       "      <th>auc</th>\n",
       "    </tr>\n",
       "    <tr>\n",
       "      <th>Modèle</th>\n",
       "      <th></th>\n",
       "      <th></th>\n",
       "      <th></th>\n",
       "      <th></th>\n",
       "    </tr>\n",
       "  </thead>\n",
       "  <tbody>\n",
       "    <tr>\n",
       "      <th>AlternatingLeastSquares</th>\n",
       "      <td>0.141625</td>\n",
       "      <td>0.085233</td>\n",
       "      <td>0.123204</td>\n",
       "      <td>0.590079</td>\n",
       "    </tr>\n",
       "  </tbody>\n",
       "</table>\n",
       "</div>"
      ],
      "text/plain": [
       "0                        precision       map      ndcg       auc\n",
       "Modèle                                                          \n",
       "AlternatingLeastSquares   0.141625  0.085233  0.123204  0.590079"
      ]
     },
     "execution_count": 209,
     "metadata": {},
     "output_type": "execute_result"
    }
   ],
   "source": [
    "append_result()\n",
    "bench"
   ]
  },
  {
   "cell_type": "markdown",
   "metadata": {},
   "source": [
    "<h2 style=\"text-align: center;\"><span style=\"color: #666699;\"><em><strong>Bayesian Personalized Ranking Model (GPU)</strong></em></span></h2>\n"
   ]
  },
  {
   "cell_type": "code",
   "execution_count": 210,
   "metadata": {
    "scrolled": true
   },
   "outputs": [
    {
     "data": {
      "application/vnd.jupyter.widget-view+json": {
       "model_id": "d4c0f74150434ef8bd0dd5e88970ffcb",
       "version_major": 2,
       "version_minor": 0
      },
      "text/plain": [
       "  0%|          | 0/100 [00:00<?, ?it/s]"
      ]
     },
     "metadata": {},
     "output_type": "display_data"
    }
   ],
   "source": [
    "model = implicit.gpu.bpr.BayesianPersonalizedRanking()\n",
    "model.fit(train_set, show_progress = True)"
   ]
  },
  {
   "cell_type": "code",
   "execution_count": 212,
   "metadata": {},
   "outputs": [
    {
     "data": {
      "text/plain": [
       "[234047, 235689, 240233, 79851, 235028]"
      ]
     },
     "execution_count": 212,
     "metadata": {},
     "output_type": "execute_result"
    }
   ],
   "source": [
    "model.recommend(16280, ratings_sparse[16280], N=5)[0].tolist()"
   ]
  },
  {
   "cell_type": "code",
   "execution_count": 211,
   "metadata": {},
   "outputs": [
    {
     "data": {
      "application/vnd.jupyter.widget-view+json": {
       "model_id": "b9402cf2bf2d4049a3794002b00028b3",
       "version_major": 2,
       "version_minor": 0
      },
      "text/plain": [
       "  0%|          | 0/210272 [00:00<?, ?it/s]"
      ]
     },
     "metadata": {},
     "output_type": "display_data"
    },
    {
     "data": {
      "text/html": [
       "<div>\n",
       "<style scoped>\n",
       "    .dataframe tbody tr th:only-of-type {\n",
       "        vertical-align: middle;\n",
       "    }\n",
       "\n",
       "    .dataframe tbody tr th {\n",
       "        vertical-align: top;\n",
       "    }\n",
       "\n",
       "    .dataframe thead th {\n",
       "        text-align: right;\n",
       "    }\n",
       "</style>\n",
       "<table border=\"1\" class=\"dataframe\">\n",
       "  <thead>\n",
       "    <tr style=\"text-align: right;\">\n",
       "      <th></th>\n",
       "      <th>precision</th>\n",
       "      <th>map</th>\n",
       "      <th>ndcg</th>\n",
       "      <th>auc</th>\n",
       "    </tr>\n",
       "    <tr>\n",
       "      <th>Modèle</th>\n",
       "      <th></th>\n",
       "      <th></th>\n",
       "      <th></th>\n",
       "      <th></th>\n",
       "    </tr>\n",
       "  </thead>\n",
       "  <tbody>\n",
       "    <tr>\n",
       "      <th>AlternatingLeastSquares</th>\n",
       "      <td>0.141625</td>\n",
       "      <td>0.085233</td>\n",
       "      <td>0.123204</td>\n",
       "      <td>0.590079</td>\n",
       "    </tr>\n",
       "    <tr>\n",
       "      <th>BayesianPersonalizedRanking</th>\n",
       "      <td>0.119299</td>\n",
       "      <td>0.079672</td>\n",
       "      <td>0.112290</td>\n",
       "      <td>0.583227</td>\n",
       "    </tr>\n",
       "  </tbody>\n",
       "</table>\n",
       "</div>"
      ],
      "text/plain": [
       "0                            precision       map      ndcg       auc\n",
       "Modèle                                                              \n",
       "AlternatingLeastSquares       0.141625  0.085233  0.123204  0.590079\n",
       "BayesianPersonalizedRanking   0.119299  0.079672  0.112290  0.583227"
      ]
     },
     "execution_count": 211,
     "metadata": {},
     "output_type": "execute_result"
    }
   ],
   "source": [
    "result = evaluation.ranking_metrics_at_k(model, train_set, test_set, K=10, num_threads=1)\n",
    "append_result()\n",
    "bench"
   ]
  },
  {
   "cell_type": "markdown",
   "metadata": {},
   "source": [
    "<h2 style=\"text-align: center;\"><span style=\"color: #666699;\"><em><strong>Logistic Matrix Factorization Model</strong></em></span></h2>\n"
   ]
  },
  {
   "cell_type": "code",
   "execution_count": 247,
   "metadata": {},
   "outputs": [
    {
     "data": {
      "application/vnd.jupyter.widget-view+json": {
       "model_id": "aab02f3689d74b19ad7e39e3287b9c91",
       "version_major": 2,
       "version_minor": 0
      },
      "text/plain": [
       "  0%|          | 0/30 [00:00<?, ?it/s]"
      ]
     },
     "metadata": {},
     "output_type": "display_data"
    }
   ],
   "source": [
    "model = implicit.cpu.lmf.LogisticMatrixFactorization()\n",
    "model.fit(train_set, show_progress = True)"
   ]
  },
  {
   "cell_type": "code",
   "execution_count": 248,
   "metadata": {},
   "outputs": [
    {
     "data": {
      "text/plain": [
       "[168784, 31278, 172992, 96560, 284096]"
      ]
     },
     "execution_count": 248,
     "metadata": {},
     "output_type": "execute_result"
    }
   ],
   "source": [
    "model.recommend(16280, ratings_sparse[16280], N=5)[0].tolist()"
   ]
  },
  {
   "cell_type": "code",
   "execution_count": 249,
   "metadata": {},
   "outputs": [
    {
     "data": {
      "application/vnd.jupyter.widget-view+json": {
       "model_id": "091df221099646e1bf089237862a5487",
       "version_major": 2,
       "version_minor": 0
      },
      "text/plain": [
       "  0%|          | 0/210272 [00:00<?, ?it/s]"
      ]
     },
     "metadata": {},
     "output_type": "display_data"
    },
    {
     "data": {
      "text/html": [
       "<div>\n",
       "<style scoped>\n",
       "    .dataframe tbody tr th:only-of-type {\n",
       "        vertical-align: middle;\n",
       "    }\n",
       "\n",
       "    .dataframe tbody tr th {\n",
       "        vertical-align: top;\n",
       "    }\n",
       "\n",
       "    .dataframe thead th {\n",
       "        text-align: right;\n",
       "    }\n",
       "</style>\n",
       "<table border=\"1\" class=\"dataframe\">\n",
       "  <thead>\n",
       "    <tr style=\"text-align: right;\">\n",
       "      <th></th>\n",
       "      <th>precision</th>\n",
       "      <th>map</th>\n",
       "      <th>ndcg</th>\n",
       "      <th>auc</th>\n",
       "    </tr>\n",
       "    <tr>\n",
       "      <th>Modèle</th>\n",
       "      <th></th>\n",
       "      <th></th>\n",
       "      <th></th>\n",
       "      <th></th>\n",
       "    </tr>\n",
       "  </thead>\n",
       "  <tbody>\n",
       "    <tr>\n",
       "      <th>AlternatingLeastSquares</th>\n",
       "      <td>0.141625</td>\n",
       "      <td>0.085233</td>\n",
       "      <td>0.123204</td>\n",
       "      <td>0.590079</td>\n",
       "    </tr>\n",
       "    <tr>\n",
       "      <th>BayesianPersonalizedRanking</th>\n",
       "      <td>0.119299</td>\n",
       "      <td>0.079672</td>\n",
       "      <td>0.112290</td>\n",
       "      <td>0.583227</td>\n",
       "    </tr>\n",
       "    <tr>\n",
       "      <th>LogisticMatrixFactorization</th>\n",
       "      <td>0.028232</td>\n",
       "      <td>0.010633</td>\n",
       "      <td>0.018802</td>\n",
       "      <td>0.515468</td>\n",
       "    </tr>\n",
       "    <tr>\n",
       "      <th>CosineRecommender</th>\n",
       "      <td>0.207101</td>\n",
       "      <td>0.063243</td>\n",
       "      <td>0.126449</td>\n",
       "      <td>0.635363</td>\n",
       "    </tr>\n",
       "    <tr>\n",
       "      <th>ItemItemRecommender</th>\n",
       "      <td>0.176671</td>\n",
       "      <td>0.060964</td>\n",
       "      <td>0.114564</td>\n",
       "      <td>0.614395</td>\n",
       "    </tr>\n",
       "    <tr>\n",
       "      <th>TFIDFRecommender</th>\n",
       "      <td>0.216351</td>\n",
       "      <td>0.066070</td>\n",
       "      <td>0.132075</td>\n",
       "      <td>0.641347</td>\n",
       "    </tr>\n",
       "    <tr>\n",
       "      <th>BM25Recommender</th>\n",
       "      <td>0.025482</td>\n",
       "      <td>0.009987</td>\n",
       "      <td>0.018954</td>\n",
       "      <td>0.520581</td>\n",
       "    </tr>\n",
       "  </tbody>\n",
       "</table>\n",
       "</div>"
      ],
      "text/plain": [
       "0                            precision       map      ndcg       auc\n",
       "Modèle                                                              \n",
       "AlternatingLeastSquares       0.141625  0.085233  0.123204  0.590079\n",
       "BayesianPersonalizedRanking   0.119299  0.079672  0.112290  0.583227\n",
       "LogisticMatrixFactorization   0.028232  0.010633  0.018802  0.515468\n",
       "CosineRecommender             0.207101  0.063243  0.126449  0.635363\n",
       "ItemItemRecommender           0.176671  0.060964  0.114564  0.614395\n",
       "TFIDFRecommender              0.216351  0.066070  0.132075  0.641347\n",
       "BM25Recommender               0.025482  0.009987  0.018954  0.520581"
      ]
     },
     "execution_count": 249,
     "metadata": {},
     "output_type": "execute_result"
    }
   ],
   "source": [
    "result = evaluation.ranking_metrics_at_k(model, train_set, test_set, K=10, num_threads=1)\n",
    "append_result()\n",
    "bench"
   ]
  },
  {
   "cell_type": "markdown",
   "metadata": {},
   "source": [
    "<hr /><h1 style=\"text-align: center;\"><span style=\"color: #666699;\"> <em><strong>Memory based</strong></em></span></h1>"
   ]
  },
  {
   "cell_type": "markdown",
   "metadata": {},
   "source": [
    "<h2 style=\"text-align: center;\"><span style=\"color: #666699;\"><em><strong>Nearest Neighbours with Cosine Recommender Model</strong></em></span></h2>\n"
   ]
  },
  {
   "cell_type": "code",
   "execution_count": 240,
   "metadata": {},
   "outputs": [
    {
     "data": {
      "application/vnd.jupyter.widget-view+json": {
       "model_id": "fa6496acc77d47c6b0ab6087328729ea",
       "version_major": 2,
       "version_minor": 0
      },
      "text/plain": [
       "  0%|          | 0/364047 [00:00<?, ?it/s]"
      ]
     },
     "metadata": {},
     "output_type": "display_data"
    }
   ],
   "source": [
    "model = implicit.nearest_neighbours.CosineRecommender(K=10, num_threads=1)\n",
    "model.fit(train_set.astype('double'), show_progress = True)"
   ]
  },
  {
   "cell_type": "code",
   "execution_count": 241,
   "metadata": {},
   "outputs": [
    {
     "data": {
      "text/plain": [
       "[235689, 96755, 160940, 337735, 87231]"
      ]
     },
     "execution_count": 241,
     "metadata": {},
     "output_type": "execute_result"
    }
   ],
   "source": [
    "model.recommend(16280, train_set.astype('double'), N=5)[0].tolist()"
   ]
  },
  {
   "cell_type": "code",
   "execution_count": 217,
   "metadata": {},
   "outputs": [
    {
     "data": {
      "application/vnd.jupyter.widget-view+json": {
       "model_id": "fdfb77c0cf3c4590a80cfbd94d6d26f5",
       "version_major": 2,
       "version_minor": 0
      },
      "text/plain": [
       "  0%|          | 0/210272 [00:00<?, ?it/s]"
      ]
     },
     "metadata": {},
     "output_type": "display_data"
    },
    {
     "data": {
      "text/html": [
       "<div>\n",
       "<style scoped>\n",
       "    .dataframe tbody tr th:only-of-type {\n",
       "        vertical-align: middle;\n",
       "    }\n",
       "\n",
       "    .dataframe tbody tr th {\n",
       "        vertical-align: top;\n",
       "    }\n",
       "\n",
       "    .dataframe thead th {\n",
       "        text-align: right;\n",
       "    }\n",
       "</style>\n",
       "<table border=\"1\" class=\"dataframe\">\n",
       "  <thead>\n",
       "    <tr style=\"text-align: right;\">\n",
       "      <th></th>\n",
       "      <th>precision</th>\n",
       "      <th>map</th>\n",
       "      <th>ndcg</th>\n",
       "      <th>auc</th>\n",
       "    </tr>\n",
       "    <tr>\n",
       "      <th>Modèle</th>\n",
       "      <th></th>\n",
       "      <th></th>\n",
       "      <th></th>\n",
       "      <th></th>\n",
       "    </tr>\n",
       "  </thead>\n",
       "  <tbody>\n",
       "    <tr>\n",
       "      <th>AlternatingLeastSquares</th>\n",
       "      <td>0.141625</td>\n",
       "      <td>0.085233</td>\n",
       "      <td>0.123204</td>\n",
       "      <td>0.590079</td>\n",
       "    </tr>\n",
       "    <tr>\n",
       "      <th>BayesianPersonalizedRanking</th>\n",
       "      <td>0.119299</td>\n",
       "      <td>0.079672</td>\n",
       "      <td>0.112290</td>\n",
       "      <td>0.583227</td>\n",
       "    </tr>\n",
       "    <tr>\n",
       "      <th>LogisticMatrixFactorization</th>\n",
       "      <td>0.027707</td>\n",
       "      <td>0.010459</td>\n",
       "      <td>0.018509</td>\n",
       "      <td>0.515394</td>\n",
       "    </tr>\n",
       "    <tr>\n",
       "      <th>CosineRecommender</th>\n",
       "      <td>0.207101</td>\n",
       "      <td>0.063243</td>\n",
       "      <td>0.126449</td>\n",
       "      <td>0.635363</td>\n",
       "    </tr>\n",
       "  </tbody>\n",
       "</table>\n",
       "</div>"
      ],
      "text/plain": [
       "0                            precision       map      ndcg       auc\n",
       "Modèle                                                              \n",
       "AlternatingLeastSquares       0.141625  0.085233  0.123204  0.590079\n",
       "BayesianPersonalizedRanking   0.119299  0.079672  0.112290  0.583227\n",
       "LogisticMatrixFactorization   0.027707  0.010459  0.018509  0.515394\n",
       "CosineRecommender             0.207101  0.063243  0.126449  0.635363"
      ]
     },
     "execution_count": 217,
     "metadata": {},
     "output_type": "execute_result"
    }
   ],
   "source": [
    "result = evaluation.ranking_metrics_at_k(model, train_set.astype('double'), test_set.astype('double'), K=10, num_threads=1)\n",
    "append_result()\n",
    "bench"
   ]
  },
  {
   "cell_type": "markdown",
   "metadata": {},
   "source": [
    "<h2 style=\"text-align: center;\"><span style=\"color: #666699;\"><em><strong>Nearest Neighbours with Item/Item Recommender Model</strong></em></span></h2>\n"
   ]
  },
  {
   "cell_type": "code",
   "execution_count": 252,
   "metadata": {},
   "outputs": [
    {
     "data": {
      "application/vnd.jupyter.widget-view+json": {
       "model_id": "f71ab185625a4f9bbf21e36987a779e7",
       "version_major": 2,
       "version_minor": 0
      },
      "text/plain": [
       "  0%|          | 0/364047 [00:00<?, ?it/s]"
      ]
     },
     "metadata": {},
     "output_type": "display_data"
    }
   ],
   "source": [
    "model = implicit.nearest_neighbours.ItemItemRecommender(K=10)\n",
    "model.fit(train_set.astype('double'))"
   ]
  },
  {
   "cell_type": "code",
   "execution_count": 253,
   "metadata": {
    "scrolled": true
   },
   "outputs": [
    {
     "data": {
      "text/plain": [
       "[160940, 124749, 293114, 272143, 160974]"
      ]
     },
     "execution_count": 253,
     "metadata": {},
     "output_type": "execute_result"
    }
   ],
   "source": [
    "model.recommend(16280, train_set.astype('double'), N=5)[0].tolist()"
   ]
  },
  {
   "cell_type": "code",
   "execution_count": 219,
   "metadata": {},
   "outputs": [
    {
     "data": {
      "application/vnd.jupyter.widget-view+json": {
       "model_id": "cd05c5acdf554f11ae11b6dd964e02de",
       "version_major": 2,
       "version_minor": 0
      },
      "text/plain": [
       "  0%|          | 0/210272 [00:00<?, ?it/s]"
      ]
     },
     "metadata": {},
     "output_type": "display_data"
    },
    {
     "data": {
      "text/html": [
       "<div>\n",
       "<style scoped>\n",
       "    .dataframe tbody tr th:only-of-type {\n",
       "        vertical-align: middle;\n",
       "    }\n",
       "\n",
       "    .dataframe tbody tr th {\n",
       "        vertical-align: top;\n",
       "    }\n",
       "\n",
       "    .dataframe thead th {\n",
       "        text-align: right;\n",
       "    }\n",
       "</style>\n",
       "<table border=\"1\" class=\"dataframe\">\n",
       "  <thead>\n",
       "    <tr style=\"text-align: right;\">\n",
       "      <th></th>\n",
       "      <th>precision</th>\n",
       "      <th>map</th>\n",
       "      <th>ndcg</th>\n",
       "      <th>auc</th>\n",
       "    </tr>\n",
       "    <tr>\n",
       "      <th>Modèle</th>\n",
       "      <th></th>\n",
       "      <th></th>\n",
       "      <th></th>\n",
       "      <th></th>\n",
       "    </tr>\n",
       "  </thead>\n",
       "  <tbody>\n",
       "    <tr>\n",
       "      <th>AlternatingLeastSquares</th>\n",
       "      <td>0.141625</td>\n",
       "      <td>0.085233</td>\n",
       "      <td>0.123204</td>\n",
       "      <td>0.590079</td>\n",
       "    </tr>\n",
       "    <tr>\n",
       "      <th>BayesianPersonalizedRanking</th>\n",
       "      <td>0.119299</td>\n",
       "      <td>0.079672</td>\n",
       "      <td>0.112290</td>\n",
       "      <td>0.583227</td>\n",
       "    </tr>\n",
       "    <tr>\n",
       "      <th>LogisticMatrixFactorization</th>\n",
       "      <td>0.027707</td>\n",
       "      <td>0.010459</td>\n",
       "      <td>0.018509</td>\n",
       "      <td>0.515394</td>\n",
       "    </tr>\n",
       "    <tr>\n",
       "      <th>CosineRecommender</th>\n",
       "      <td>0.207101</td>\n",
       "      <td>0.063243</td>\n",
       "      <td>0.126449</td>\n",
       "      <td>0.635363</td>\n",
       "    </tr>\n",
       "    <tr>\n",
       "      <th>ItemItemRecommender</th>\n",
       "      <td>0.176671</td>\n",
       "      <td>0.060964</td>\n",
       "      <td>0.114564</td>\n",
       "      <td>0.614395</td>\n",
       "    </tr>\n",
       "  </tbody>\n",
       "</table>\n",
       "</div>"
      ],
      "text/plain": [
       "0                            precision       map      ndcg       auc\n",
       "Modèle                                                              \n",
       "AlternatingLeastSquares       0.141625  0.085233  0.123204  0.590079\n",
       "BayesianPersonalizedRanking   0.119299  0.079672  0.112290  0.583227\n",
       "LogisticMatrixFactorization   0.027707  0.010459  0.018509  0.515394\n",
       "CosineRecommender             0.207101  0.063243  0.126449  0.635363\n",
       "ItemItemRecommender           0.176671  0.060964  0.114564  0.614395"
      ]
     },
     "execution_count": 219,
     "metadata": {},
     "output_type": "execute_result"
    }
   ],
   "source": [
    "result = evaluation.ranking_metrics_at_k(model, train_set.astype('double'), test_set.astype('double'), K=10, num_threads=1)\n",
    "append_result()\n",
    "bench"
   ]
  },
  {
   "cell_type": "markdown",
   "metadata": {},
   "source": [
    "<h2 style=\"text-align: center;\"><span style=\"color: #666699;\"><em><strong>Nearest Neighbours with TF/IDF Recommender Model</strong></em></span></h2>\n"
   ]
  },
  {
   "cell_type": "code",
   "execution_count": 254,
   "metadata": {},
   "outputs": [
    {
     "data": {
      "application/vnd.jupyter.widget-view+json": {
       "model_id": "7cfc28e6012449cb99fe974f78c3dad9",
       "version_major": 2,
       "version_minor": 0
      },
      "text/plain": [
       "  0%|          | 0/364047 [00:00<?, ?it/s]"
      ]
     },
     "metadata": {},
     "output_type": "display_data"
    }
   ],
   "source": [
    "model = implicit.nearest_neighbours.TFIDFRecommender(K=10, num_threads=1)\n",
    "model.fit(train_set.astype('double'), show_progress = True)"
   ]
  },
  {
   "cell_type": "code",
   "execution_count": 255,
   "metadata": {},
   "outputs": [
    {
     "data": {
      "text/plain": [
       "[158906, 96755, 337735, 160940, 87231]"
      ]
     },
     "execution_count": 255,
     "metadata": {},
     "output_type": "execute_result"
    }
   ],
   "source": [
    "model.recommend(16280, train_set.astype('double'), N=5)[0].tolist()"
   ]
  },
  {
   "cell_type": "code",
   "execution_count": 221,
   "metadata": {},
   "outputs": [
    {
     "data": {
      "application/vnd.jupyter.widget-view+json": {
       "model_id": "8a6949d7531e4d97ad8401dd14e0e4f7",
       "version_major": 2,
       "version_minor": 0
      },
      "text/plain": [
       "  0%|          | 0/210272 [00:00<?, ?it/s]"
      ]
     },
     "metadata": {},
     "output_type": "display_data"
    },
    {
     "data": {
      "text/html": [
       "<div>\n",
       "<style scoped>\n",
       "    .dataframe tbody tr th:only-of-type {\n",
       "        vertical-align: middle;\n",
       "    }\n",
       "\n",
       "    .dataframe tbody tr th {\n",
       "        vertical-align: top;\n",
       "    }\n",
       "\n",
       "    .dataframe thead th {\n",
       "        text-align: right;\n",
       "    }\n",
       "</style>\n",
       "<table border=\"1\" class=\"dataframe\">\n",
       "  <thead>\n",
       "    <tr style=\"text-align: right;\">\n",
       "      <th></th>\n",
       "      <th>precision</th>\n",
       "      <th>map</th>\n",
       "      <th>ndcg</th>\n",
       "      <th>auc</th>\n",
       "    </tr>\n",
       "    <tr>\n",
       "      <th>Modèle</th>\n",
       "      <th></th>\n",
       "      <th></th>\n",
       "      <th></th>\n",
       "      <th></th>\n",
       "    </tr>\n",
       "  </thead>\n",
       "  <tbody>\n",
       "    <tr>\n",
       "      <th>AlternatingLeastSquares</th>\n",
       "      <td>0.141625</td>\n",
       "      <td>0.085233</td>\n",
       "      <td>0.123204</td>\n",
       "      <td>0.590079</td>\n",
       "    </tr>\n",
       "    <tr>\n",
       "      <th>BayesianPersonalizedRanking</th>\n",
       "      <td>0.119299</td>\n",
       "      <td>0.079672</td>\n",
       "      <td>0.112290</td>\n",
       "      <td>0.583227</td>\n",
       "    </tr>\n",
       "    <tr>\n",
       "      <th>LogisticMatrixFactorization</th>\n",
       "      <td>0.027707</td>\n",
       "      <td>0.010459</td>\n",
       "      <td>0.018509</td>\n",
       "      <td>0.515394</td>\n",
       "    </tr>\n",
       "    <tr>\n",
       "      <th>CosineRecommender</th>\n",
       "      <td>0.207101</td>\n",
       "      <td>0.063243</td>\n",
       "      <td>0.126449</td>\n",
       "      <td>0.635363</td>\n",
       "    </tr>\n",
       "    <tr>\n",
       "      <th>ItemItemRecommender</th>\n",
       "      <td>0.176671</td>\n",
       "      <td>0.060964</td>\n",
       "      <td>0.114564</td>\n",
       "      <td>0.614395</td>\n",
       "    </tr>\n",
       "    <tr>\n",
       "      <th>TFIDFRecommender</th>\n",
       "      <td>0.216351</td>\n",
       "      <td>0.066070</td>\n",
       "      <td>0.132075</td>\n",
       "      <td>0.641347</td>\n",
       "    </tr>\n",
       "  </tbody>\n",
       "</table>\n",
       "</div>"
      ],
      "text/plain": [
       "0                            precision       map      ndcg       auc\n",
       "Modèle                                                              \n",
       "AlternatingLeastSquares       0.141625  0.085233  0.123204  0.590079\n",
       "BayesianPersonalizedRanking   0.119299  0.079672  0.112290  0.583227\n",
       "LogisticMatrixFactorization   0.027707  0.010459  0.018509  0.515394\n",
       "CosineRecommender             0.207101  0.063243  0.126449  0.635363\n",
       "ItemItemRecommender           0.176671  0.060964  0.114564  0.614395\n",
       "TFIDFRecommender              0.216351  0.066070  0.132075  0.641347"
      ]
     },
     "execution_count": 221,
     "metadata": {},
     "output_type": "execute_result"
    }
   ],
   "source": [
    "result = evaluation.ranking_metrics_at_k(model, train_set.astype('double'), test_set.astype('double'), K=10, num_threads=1)\n",
    "append_result()\n",
    "bench"
   ]
  },
  {
   "cell_type": "markdown",
   "metadata": {},
   "source": [
    "<h2 style=\"text-align: center;\"><span style=\"color: #666699;\"><em><strong>Conclusion</strong></em></span></h2>\n"
   ]
  },
  {
   "cell_type": "markdown",
   "metadata": {},
   "source": [
    "<span style=\"color: #666699;\"><em><strong>Le meilleur modèle au vue des resultats de la Précision et du MAP Mean Average Precision est le modèle AlternatingLeastSquares</strong></em></span>\n"
   ]
  },
  {
   "cell_type": "code",
   "execution_count": null,
   "metadata": {},
   "outputs": [],
   "source": []
  }
 ],
 "metadata": {
  "kernelspec": {
   "display_name": "Python 3",
   "language": "python",
   "name": "python3"
  },
  "language_info": {
   "codemirror_mode": {
    "name": "ipython",
    "version": 3
   },
   "file_extension": ".py",
   "mimetype": "text/x-python",
   "name": "python",
   "nbconvert_exporter": "python",
   "pygments_lexer": "ipython3",
   "version": "3.8.10"
  }
 },
 "nbformat": 4,
 "nbformat_minor": 2
}
